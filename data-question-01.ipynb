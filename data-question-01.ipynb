{
 "cells": [
  {
   "cell_type": "markdown",
   "metadata": {},
   "source": [
    "### Data Sources\n",
    "##### Downloaded on Oct 17th 2017 (Step 1)\n",
    " 1.\tNet Migration (http://data.un.org/Data.aspx?d=WDI&f=Indicator_Code%3aSM.POP.NETM)\n",
    " 2.\tPercentage of Individuals using the Internet http://data.un.org/Data.aspx?d=ITU&f=ind1Code%3aI99H"
   ]
  },
  {
   "cell_type": "markdown",
   "metadata": {},
   "source": [
    "###### Setting up Notebook and importing relevant packages.(Step 2-4)"
   ]
  },
  {
   "cell_type": "code",
   "execution_count": 77,
   "metadata": {
    "collapsed": true
   },
   "outputs": [],
   "source": [
    "import pandas as pd \n",
    "import matplotlib as mpl \n",
    "import numpy as np \n",
    "import matplotlib.pyplot as plt \n",
    "%matplotlib inline\n"
   ]
  },
  {
   "cell_type": "markdown",
   "metadata": {},
   "source": [
    "###### Steps( 5-9) Read the file, display head , drop footnotes, change column names."
   ]
  },
  {
   "cell_type": "code",
   "execution_count": 78,
   "metadata": {},
   "outputs": [
    {
     "name": "stdout",
     "output_type": "stream",
     "text": [
      "Preview of CSV Load :\n",
      "  Country or Area  Year    Value  Value Footnotes\n",
      "0     Afghanistan  2012   473007              NaN\n",
      "1     Afghanistan  2007  -677497              NaN\n",
      "2     Afghanistan  2002   804120              NaN\n",
      "3     Afghanistan  1997  -379474              NaN\n",
      "4     Afghanistan  1992  2227474              NaN\n",
      "\n",
      "Preview of Dropped Footnotes :\n",
      "  Country or Area  Year    Value\n",
      "0     Afghanistan  2012   473007\n",
      "1     Afghanistan  2007  -677497\n",
      "2     Afghanistan  2002   804120\n",
      "3     Afghanistan  1997  -379474\n",
      "4     Afghanistan  1992  2227474\n",
      "\n",
      "Preview of Column Rename :\n",
      "       Country  Year  Net_migration\n",
      "0  Afghanistan  2012         473007\n",
      "1  Afghanistan  2007        -677497\n",
      "2  Afghanistan  2002         804120\n",
      "3  Afghanistan  1997        -379474\n",
      "4  Afghanistan  1992        2227474\n",
      "5  Afghanistan  1987       -1484185\n"
     ]
    }
   ],
   "source": [
    "net_mig_df = pd.read_csv('/Users/ssharma/code/nss-ds/data-question-1-shrutijalewar/data/net_migration_minor.csv')\n",
    "print('Preview of CSV Load :')\n",
    "print(net_mig_df.head())\n",
    "print('')\n",
    "net_mig_rename = net_mig_df.drop('Value Footnotes',axis=1)\n",
    "print('Preview of Dropped Footnotes :')\n",
    "print(net_mig_rename.head())\n",
    "print('')\n",
    "net_mig_rename = net_mig_rename.rename(columns={'Country or Area': 'Country','Value':'Net_migration'})\n",
    "print('Preview of Column Rename :')\n",
    "print(net_mig_rename.head(6))"
   ]
  },
  {
   "cell_type": "code",
   "execution_count": 79,
   "metadata": {},
   "outputs": [
    {
     "name": "stdout",
     "output_type": "stream",
     "text": [
      "Preview of CSV Load :\n",
      "  Country or Area  Year     Value  Value Footnotes\n",
      "0     Afghanistan  2014  6.390000              NaN\n",
      "1     Afghanistan  2013  5.900000              NaN\n",
      "2     Afghanistan  2012  5.454545              NaN\n",
      "3     Afghanistan  2011  5.000000              NaN\n",
      "4     Afghanistan  2010  4.000000              NaN\n",
      "\n",
      "Preview of Dropped Footnotes :\n",
      "  Country or Area  Year     Value\n",
      "0     Afghanistan  2014  6.390000\n",
      "1     Afghanistan  2013  5.900000\n",
      "2     Afghanistan  2012  5.454545\n",
      "3     Afghanistan  2011  5.000000\n",
      "4     Afghanistan  2010  4.000000\n",
      "\n",
      "Preview of Column Rename :\n",
      "       Country  Year  Inernet_users_pct\n",
      "0  Afghanistan  2014           6.390000\n",
      "1  Afghanistan  2013           5.900000\n",
      "2  Afghanistan  2012           5.454545\n",
      "3  Afghanistan  2011           5.000000\n",
      "4  Afghanistan  2010           4.000000\n",
      "5  Afghanistan  2009           3.550000\n"
     ]
    }
   ],
   "source": [
    "net_use_df = pd.read_csv('/Users/ssharma/code/nss-ds/data-question-1-shrutijalewar/data/internet_use_minor.csv', nrows=4495)\n",
    "print('Preview of CSV Load :')\n",
    "print(net_use_df.head())\n",
    "print('')\n",
    "net_use_rename = net_use_df.drop('Value Footnotes',axis=1)\n",
    "print('Preview of Dropped Footnotes :')\n",
    "print(net_use_rename.head())\n",
    "print('')\n",
    "net_use_rename = net_use_rename.rename(columns={'Country or Area': 'Country','Value':'Inernet_users_pct'})\n",
    "print('Preview of Column Rename :')\n",
    "print(net_use_rename.head(6))\n",
    "\n"
   ]
  },
  {
   "cell_type": "markdown",
   "metadata": {},
   "source": [
    "###### Merge the two dataframes as one.(Step 10-12) and see the first 5 and last 5 rows"
   ]
  },
  {
   "cell_type": "code",
   "execution_count": 80,
   "metadata": {},
   "outputs": [
    {
     "name": "stdout",
     "output_type": "stream",
     "text": [
      "Preview of First 5 :\n",
      "       Country  Year  Inernet_users_pct  Net_migration\n",
      "0  Afghanistan  2014           6.390000            NaN\n",
      "1  Afghanistan  2013           5.900000            NaN\n",
      "2  Afghanistan  2012           5.454545       473007.0\n",
      "3  Afghanistan  2011           5.000000            NaN\n",
      "4  Afghanistan  2010           4.000000            NaN\n",
      "\n",
      "Preview of Last 5 :\n",
      "       Country  Year  Inernet_users_pct  Net_migration\n",
      "6150  Zimbabwe  1982                NaN       141524.0\n",
      "6151  Zimbabwe  1977                NaN      -101516.0\n",
      "6152  Zimbabwe  1972                NaN       -30360.0\n",
      "6153  Zimbabwe  1967                NaN       -27996.0\n",
      "6154  Zimbabwe  1962                NaN       -10001.0\n"
     ]
    }
   ],
   "source": [
    "merge_df = pd.merge(net_use_rename,net_mig_rename, how='outer', on=['Country','Year'])\n",
    "print('Preview of First 5 :')\n",
    "print(merge_df.head(5))\n",
    "print('')\n",
    "print('Preview of Last 5 :')\n",
    "print(merge_df.tail(5))"
   ]
  },
  {
   "cell_type": "markdown",
   "metadata": {},
   "source": [
    "###### Subset the data frame to only have data for year 2002, 2007, and 2012 (Step 13)"
   ]
  },
  {
   "cell_type": "code",
   "execution_count": 81,
   "metadata": {},
   "outputs": [
    {
     "name": "stdout",
     "output_type": "stream",
     "text": [
      "Preview of 3 year subset:\n",
      "        Country  Year  Inernet_users_pct  Net_migration\n",
      "2   Afghanistan  2012           5.454545       473007.0\n",
      "7   Afghanistan  2007           1.900000      -677497.0\n",
      "12  Afghanistan  2002           0.004561       804120.0\n",
      "17      Albania  2012          54.655959       -91750.0\n",
      "22      Albania  2007          15.036115      -252926.0\n"
     ]
    }
   ],
   "source": [
    "merge_df_3_yr = merge_df.loc[merge_df['Year'].isin([2002,2007,2012])]\n",
    "print('Preview of 3 year subset:')\n",
    "print(merge_df_3_yr.head())"
   ]
  },
  {
   "cell_type": "markdown",
   "metadata": {},
   "source": [
    "###### Create 3 subsets each for year 2002,2007 and 2012 (Step 14)"
   ]
  },
  {
   "cell_type": "code",
   "execution_count": 82,
   "metadata": {},
   "outputs": [
    {
     "name": "stdout",
     "output_type": "stream",
     "text": [
      "Preview of year 2002:\n",
      "        Country  Year  Inernet_users_pct  Net_migration\n",
      "12  Afghanistan  2002           0.004561       804120.0\n",
      "27      Albania  2002           0.390081      -175406.0\n",
      "48      Algeria  2002           1.591641      -205228.0\n",
      "71      Andorra  2002          11.260469            NaN\n",
      "90       Angola  2002           0.270377       172594.0\n",
      "\n",
      "Preview of year 2007:\n",
      "        Country  Year  Inernet_users_pct  Net_migration\n",
      "7   Afghanistan  2007           1.900000      -677497.0\n",
      "22      Albania  2007          15.036115      -252926.0\n",
      "43      Algeria  2007           9.451191      -357340.0\n",
      "66      Andorra  2007          70.870000            NaN\n",
      "85       Angola  2007           3.200000        85286.0\n",
      "\n",
      "Preview of year 2012:\n",
      "        Country  Year  Inernet_users_pct  Net_migration\n",
      "2   Afghanistan  2012           5.454545       473007.0\n",
      "17      Albania  2012          54.655959       -91750.0\n",
      "38      Algeria  2012          15.228027      -143268.0\n",
      "61      Andorra  2012          86.434425            NaN\n",
      "80       Angola  2012          16.937210       102322.0\n"
     ]
    }
   ],
   "source": [
    "merge_df_2002 = merge_df.loc[merge_df['Year']==2002]\n",
    "print('Preview of year 2002:')\n",
    "print(merge_df_2002.head())\n",
    "print('')\n",
    "merge_df_2007 = merge_df.loc[merge_df['Year']==2007]\n",
    "print('Preview of year 2007:')\n",
    "print(merge_df_2007.head())\n",
    "print('')\n",
    "merge_df_2012 = merge_df.loc[merge_df['Year']==2012]\n",
    "print('Preview of year 2012:')\n",
    "print(merge_df_2012.head())"
   ]
  },
  {
   "cell_type": "markdown",
   "metadata": {},
   "source": [
    "###### Which country had the highest percent of internet users in 2012? What was the percentage? Step 15"
   ]
  },
  {
   "cell_type": "code",
   "execution_count": 83,
   "metadata": {},
   "outputs": [
    {
     "name": "stdout",
     "output_type": "stream",
     "text": [
      "Highest Percent Internet Users 2012 :\n",
      "      Country  Year  Inernet_users_pct  Net_migration\n",
      "1868  Iceland  2012            96.2098         -378.0\n"
     ]
    }
   ],
   "source": [
    "print('Highest Percent Internet Users 2012 :')\n",
    "print(merge_df_2012.sort_values('Inernet_users_pct', ascending = False).head(1))"
   ]
  },
  {
   "cell_type": "markdown",
   "metadata": {},
   "source": [
    "Highest percent of internet users in 2012 is **Iceland with ~96%**"
   ]
  },
  {
   "cell_type": "markdown",
   "metadata": {},
   "source": [
    "###### Which country had the lowest% of internet users in 2012? What was the percentage? Step 16"
   ]
  },
  {
   "cell_type": "code",
   "execution_count": 84,
   "metadata": {},
   "outputs": [
    {
     "name": "stdout",
     "output_type": "stream",
     "text": [
      "Lowest Percent Internet Users :\n",
      "                          Country  Year  Inernet_users_pct  Net_migration\n",
      "1066  Dem. People's Rep. of Korea  2012                0.0            NaN\n"
     ]
    }
   ],
   "source": [
    "print('Lowest Percent Internet Users :')\n",
    "print(merge_df_2012.sort_values('Inernet_users_pct', ascending = True).head(1))"
   ]
  },
  {
   "cell_type": "markdown",
   "metadata": {},
   "source": [
    "Lowest percent of internet users in 2012 is **Dem. People's Rep. of Kores with  0.0%**"
   ]
  },
  {
   "cell_type": "markdown",
   "metadata": {},
   "source": [
    "###### Which country had the highest and lowest percent of internet users in 2007 and 2002? What was the percentage? Step 17 -18"
   ]
  },
  {
   "cell_type": "code",
   "execution_count": 85,
   "metadata": {},
   "outputs": [
    {
     "name": "stdout",
     "output_type": "stream",
     "text": [
      "Highest Percent Internet Users 2007:\n",
      "      Country  Year  Inernet_users_pct  Net_migration\n",
      "1873  Iceland  2007               90.6         8041.0\n"
     ]
    }
   ],
   "source": [
    "print('Highest Percent Internet Users 2007:')\n",
    "print(merge_df_2007.sort_values('Inernet_users_pct', ascending = False).head(1))"
   ]
  },
  {
   "cell_type": "code",
   "execution_count": 86,
   "metadata": {},
   "outputs": [
    {
     "name": "stdout",
     "output_type": "stream",
     "text": [
      "Highest Percent Internet Users 2007:\n",
      "                          Country  Year  Inernet_users_pct  Net_migration\n",
      "1071  Dem. People's Rep. of Korea  2007                0.0            NaN\n"
     ]
    }
   ],
   "source": [
    "print('Highest Percent Internet Users 2007:')\n",
    "print(merge_df_2007.sort_values('Inernet_users_pct', ascending = True).head(1))"
   ]
  },
  {
   "cell_type": "code",
   "execution_count": 87,
   "metadata": {},
   "outputs": [
    {
     "name": "stdout",
     "output_type": "stream",
     "text": [
      "Highest Percent Internet Users 2002:\n",
      "      Country  Year  Inernet_users_pct  Net_migration\n",
      "1878  Iceland  2002              79.12         3894.0\n"
     ]
    }
   ],
   "source": [
    "print('Highest Percent Internet Users 2002:')\n",
    "print(merge_df_2002.sort_values('Inernet_users_pct', ascending = False).head(1))"
   ]
  },
  {
   "cell_type": "code",
   "execution_count": 88,
   "metadata": {},
   "outputs": [
    {
     "name": "stdout",
     "output_type": "stream",
     "text": [
      "Highest Percent Internet Users 2002:\n",
      "                          Country  Year  Inernet_users_pct  Net_migration\n",
      "1076  Dem. People's Rep. of Korea  2002                0.0            NaN\n"
     ]
    }
   ],
   "source": [
    "print('Highest Percent Internet Users 2002:')\n",
    "print(merge_df_2002.sort_values('Inernet_users_pct', ascending = True).head(1))"
   ]
  },
  {
   "cell_type": "markdown",
   "metadata": {},
   "source": [
    "###### Highest and lowest Net migration in 2012 Step 19 and 20"
   ]
  },
  {
   "cell_type": "code",
   "execution_count": 89,
   "metadata": {},
   "outputs": [
    {
     "name": "stdout",
     "output_type": "stream",
     "text": [
      "Highest Net Migration 2012 :\n",
      "                                        Country  Year  Inernet_users_pct  \\\n",
      "5112                                High income  2012                NaN   \n",
      "5650                               OECD members  2012                NaN   \n",
      "5633                              North America  2012                NaN   \n",
      "4951  Europe & Central Asia (all income levels)  2012                NaN   \n",
      "4279                              United States  2012               79.3   \n",
      "\n",
      "      Net_migration  \n",
      "5112     15359563.0  \n",
      "5650     13138424.0  \n",
      "5633      6183750.0  \n",
      "4951      5547385.0  \n",
      "4279      5007887.0  \n",
      "Lowest Net Migration 2012 :\n",
      "                                           Country  Year  Inernet_users_pct  \\\n",
      "5395                           Lower middle income  2012                NaN   \n",
      "5373                           Low & middle income  2012                NaN   \n",
      "5524                                 Middle income  2012                NaN   \n",
      "5847                                    South Asia  2012                NaN   \n",
      "5325  Least developed countries: UN classification  2012                NaN   \n",
      "5944                          Syrian Arab Republic  2012                NaN   \n",
      "4878         East Asia & Pacific (developing only)  2012                NaN   \n",
      "5513  Middle East & North Africa (developing only)  2012                NaN   \n",
      "5101        Heavily indebted poor countries (HIPC)  2012                NaN   \n",
      "1893                                         India  2012          12.580061   \n",
      "\n",
      "      Net_migration  \n",
      "5395    -15784815.0  \n",
      "5373    -15350665.0  \n",
      "5524    -14235047.0  \n",
      "5847     -6280804.0  \n",
      "5325     -4741314.0  \n",
      "5944     -4029996.0  \n",
      "4878     -3728059.0  \n",
      "5513     -3615666.0  \n",
      "5101     -2672487.0  \n",
      "1893     -2598218.0  \n"
     ]
    }
   ],
   "source": [
    "print('Highest Net Migration 2012 :')\n",
    "print(merge_df_2012.sort_values('Net_migration', ascending = False).head())\n",
    "print('Lowest Net Migration 2012 :')\n",
    "print(merge_df_2012.sort_values('Net_migration', ascending = True).head(10))"
   ]
  },
  {
   "cell_type": "markdown",
   "metadata": {},
   "source": [
    "For a country in 2012 the highest net migration is for **United States with 5007887.0** and lowest is for **Syrian Arab Republic with -4029996.0 ** "
   ]
  },
  {
   "cell_type": "markdown",
   "metadata": {},
   "source": [
    "###### Scatter Plots Step 21"
   ]
  },
  {
   "cell_type": "code",
   "execution_count": 90,
   "metadata": {},
   "outputs": [
    {
     "data": {
      "image/png": "[encoded data removed]",
      "text/plain": [
       "<matplotlib.figure.Figure at 0x11f35fa20>"
      ]
     },
     "metadata": {},
     "output_type": "display_data"
    },
    {
     "data": {
      "image/png": "[encoded data removed]",
      "text/plain": [
       "<matplotlib.figure.Figure at 0x11f34e240>"
      ]
     },
     "metadata": {},
     "output_type": "display_data"
    },
    {
     "data": {
      "image/png": "[encoded data removed]",
      "text/plain": [
       "<matplotlib.figure.Figure at 0x11f4fc9e8>"
      ]
     },
     "metadata": {},
     "output_type": "display_data"
    }
   ],
   "source": [
    "plt.scatter(merge_df_2002.Inernet_users_pct,merge_df_2002.Net_migration)\n",
    "plt.xlabel('Internet Users(%)')\n",
    "plt.ylabel('Net Migration')\n",
    "plt.title('Internet Usage vs. Net Migration in Year 2002')\n",
    "plt.show()\n",
    "\n",
    "plt.scatter(merge_df_2007.Inernet_users_pct,merge_df_2007.Net_migration)\n",
    "plt.xlabel('Internet Users(%)')\n",
    "plt.ylabel('Net Migration')\n",
    "plt.title('Internet Usage vs. Net Migration in Year 2007')\n",
    "plt.show()\n",
    "\n",
    "plt.scatter(merge_df_2012.Inernet_users_pct,merge_df_2012.Net_migration)\n",
    "plt.xlabel('Internet Users(%)')\n",
    "plt.ylabel('Net Migration')\n",
    "plt.title('Internet Usage vs. Net Migration in Year 2012')\n",
    "plt.show()"
   ]
  },
  {
   "cell_type": "code",
   "execution_count": 91,
   "metadata": {},
   "outputs": [
    {
     "name": "stdout",
     "output_type": "stream",
     "text": [
      "                                        Country  Year  Inernet_users_pct  \\\n",
      "5112                                High income  2012                NaN   \n",
      "5650                               OECD members  2012                NaN   \n",
      "5633                              North America  2012                NaN   \n",
      "4951  Europe & Central Asia (all income levels)  2012                NaN   \n",
      "4279                              United States  2012          79.300000   \n",
      "4973                             European Union  2012                NaN   \n",
      "4962    Europe & Central Asia (developing only)  2012                NaN   \n",
      "4140                                     Turkey  2012          45.130000   \n",
      "4940                                  Euro area  2012                NaN   \n",
      "6053                        Upper middle income  2012                NaN   \n",
      "2299                                    Lebanon  2012          61.249786   \n",
      "1513                                    Germany  2012          82.349998   \n",
      "3043                                       Oman  2012          60.000000   \n",
      "706                                      Canada  2012          83.000000   \n",
      "5743                         Russian Federation  2012                NaN   \n",
      "185                                   Australia  2012          79.000000   \n",
      "4254                             United Kingdom  2012          87.479998   \n",
      "3463                               Saudi Arabia  2012          54.000000   \n",
      "3670                               South Africa  2012          41.000000   \n",
      "1961                                       Iraq  2012           7.100000   \n",
      "2026                                      Italy  2012          55.829998   \n",
      "2220                                     Kuwait  2012          70.450000   \n",
      "2                                   Afghanistan  2012           5.454545   \n",
      "2494                                   Malaysia  2012          65.800000   \n",
      "4233                       United Arab Emirates  2012          84.999992   \n",
      "3558                                  Singapore  2012          72.000000   \n",
      "3852                                Switzerland  2012          85.200000   \n",
      "3281                                      Qatar  2012          69.300000   \n",
      "2073                                      Japan  2012          79.496400   \n",
      "1391                                     France  2012          81.440000   \n",
      "5256                                Korea, Rep.  2012                NaN   \n",
      "3827                                     Sweden  2012          93.179988   \n",
      "353                                     Belgium  2012          80.719991   \n",
      "3018                                     Norway  2012          94.649978   \n",
      "2113                                     Jordan  2012          37.000000   \n",
      "803                                       Chile  2012          61.418155   \n",
      "4210                                    Ukraine  2012          35.270000   \n",
      "2134                                 Kazakhstan  2012          53.315669   \n",
      "5130                       Hong Kong SAR, China  2012                NaN   \n",
      "207                                     Austria  2012          80.029994   \n",
      "\n",
      "      Net_migration  \n",
      "5112     15359563.0  \n",
      "5650     13138424.0  \n",
      "5633      6183750.0  \n",
      "4951      5547385.0  \n",
      "4279      5007887.0  \n",
      "4973      2324066.0  \n",
      "4962      2121162.0  \n",
      "4140      2000003.0  \n",
      "4940      1575613.0  \n",
      "6053      1549768.0  \n",
      "2299      1250000.0  \n",
      "1513      1249998.0  \n",
      "3043      1211000.0  \n",
      "706       1175863.0  \n",
      "5743      1117884.0  \n",
      "185       1023107.0  \n",
      "4254       900000.0  \n",
      "3463       850000.0  \n",
      "3670       600000.0  \n",
      "1961       548666.0  \n",
      "2026       528269.0  \n",
      "2220       517500.0  \n",
      "2          473007.0  \n",
      "2494       450000.0  \n",
      "4233       405000.0  \n",
      "3558       397936.0  \n",
      "3852       382267.0  \n",
      "3281       363500.0  \n",
      "2073       350000.0  \n",
      "1391       331555.0  \n",
      "5256       300000.0  \n",
      "3827       272626.0  \n",
      "353        269998.0  \n",
      "3018       235665.0  \n",
      "2113       229617.0  \n",
      "803        201289.0  \n",
      "4210       195000.0  \n",
      "2134       159807.0  \n",
      "5130       150000.0  \n",
      "207        147089.0  \n"
     ]
    }
   ],
   "source": [
    "print(merge_df_2012.sort_values('Net_migration', ascending = False).head(40))"
   ]
  },
  {
   "cell_type": "markdown",
   "metadata": {},
   "source": [
    "**Step 22 Observations:**\n",
    "Internet usage has increased in the 10 years from 2002 to 2012 the world over. Net migration the world over is generally negative for countries and categories with less internet usage. The categories with higher proportion of internet use also have generally positive net migrations indicating free mobility. That may possibly be because of more *liberal visa/travel regulations and trade regulations*. These regions/countries have **freely available regional information and opportunity**. This is purely a hypothesis at this point proposed as a broad generalization that seems to sit well with the categories and countries observed in the list of top 40. "
   ]
  },
  {
   "cell_type": "code",
   "execution_count": 113,
   "metadata": {},
   "outputs": [
    {
     "data": {
      "image/png": "[encoded data removed]",
      "text/plain": [
       "<matplotlib.figure.Figure at 0x11feac860>"
      ]
     },
     "metadata": {},
     "output_type": "display_data"
    }
   ],
   "source": [
    "# for2012hist = np.array(merge_df_2012.Net_migration)\n",
    "# print(merge_df_2012.Net_migration)\n",
    "# print('')\n",
    "# print(for2012hist)\n",
    "# # for2012hist = np.nan_to_num(for2012_hist)\n",
    "net_mig_2012 = net_mig_rename.loc[net_mig_rename['Year']== 2012]\n",
    "plt.hist(net_mig_2012.Net_migration, bins=15)\n",
    "plt.xlabel('Internet Users(%)')\n",
    "plt.ylabel('Net Migration')\n",
    "plt.title('Net Migration in Year 2012')\n",
    "plt.show()"
   ]
  },
  {
   "cell_type": "markdown",
   "metadata": {},
   "source": [
    "###### Look at the distribution of Internet Use for 2012. Is it unimodal? (Step 23)\n",
    "**Yes**"
   ]
  },
  {
   "cell_type": "markdown",
   "metadata": {},
   "source": [
    "Step 24"
   ]
  },
  {
   "cell_type": "code",
   "execution_count": 114,
   "metadata": {},
   "outputs": [
    {
     "data": {
      "image/png": "[encoded data removed]",
      "text/plain": [
       "<matplotlib.figure.Figure at 0x11f70aac8>"
      ]
     },
     "metadata": {},
     "output_type": "display_data"
    }
   ],
   "source": [
    "net_use_2012 = net_use_rename.loc[net_use_rename['Year']== 2012]\n",
    "plt.hist(net_use_2012.Inernet_users_pct, bins=15)\n",
    "plt.xlabel('Internet Users(%)')\n",
    "plt.ylabel('Net Migration')\n",
    "plt.title('Net Migration in Year 2012')\n",
    "plt.show()"
   ]
  },
  {
   "cell_type": "markdown",
   "metadata": {},
   "source": [
    "###### Look at the distribution of Internet Use for 2012. Is it unimodal? step 24\n",
    "**No. It looks more bimodal in distribution.**"
   ]
  },
  {
   "cell_type": "markdown",
   "metadata": {},
   "source": [
    "###### Step 25 Top 5 countries for Internet use"
   ]
  },
  {
   "cell_type": "code",
   "execution_count": 115,
   "metadata": {},
   "outputs": [
    {
     "name": "stdout",
     "output_type": "stream",
     "text": [
      "Top 5 countries for Internet use :\n",
      "          Country  Year  Inernet_users_pct  Net_migration\n",
      "1868      Iceland  2012          96.209800         -378.0\n",
      "3018       Norway  2012          94.649978       235665.0\n",
      "3827       Sweden  2012          93.179988       272626.0\n",
      "2882  Netherlands  2012          92.859992       110006.0\n",
      "1085      Denmark  2012          92.260012        96839.0\n"
     ]
    }
   ],
   "source": [
    "print('Top 5 countries for Internet use :')\n",
    "print(merge_df_2012.sort_values('Inernet_users_pct', ascending = False).head(5))"
   ]
  },
  {
   "cell_type": "markdown",
   "metadata": {},
   "source": [
    "###### Step 26 Top 5 countries for Internet use across the three years"
   ]
  },
  {
   "cell_type": "code",
   "execution_count": 120,
   "metadata": {},
   "outputs": [
    {
     "name": "stdout",
     "output_type": "stream",
     "text": [
      "Top 5 Internet Countries of 2012 Across Three Years :\n",
      "          Country  Year  Inernet_users_pct  Net_migration\n",
      "1085      Denmark  2012          92.260012        96839.0\n",
      "1090      Denmark  2007          85.030000        87989.0\n",
      "1095      Denmark  2002          64.250000        46306.0\n",
      "1868      Iceland  2012          96.209800         -378.0\n",
      "1873      Iceland  2007          90.600000         8041.0\n",
      "1878      Iceland  2002          79.120000         3894.0\n",
      "2882  Netherlands  2012          92.859992       110006.0\n",
      "2887  Netherlands  2007          85.820000        55674.0\n",
      "2892  Netherlands  2002          61.290000       144620.0\n",
      "3018       Norway  2012          94.649978       235665.0\n",
      "3023       Norway  2007          86.930000       174001.0\n",
      "3028       Norway  2002          72.840000        67400.0\n",
      "3827       Sweden  2012          93.179988       272626.0\n",
      "3832       Sweden  2007          82.010000       262453.0\n",
      "3837       Sweden  2002          70.570000       141723.0\n"
     ]
    }
   ],
   "source": [
    "merge_df_3_yr_sub = merge_df_3_yr.loc[merge_df_3_yr['Country'].isin(['Iceland','Norway','Sweden','Netherlands','Denmark'])]\n",
    "print('Top 5 Internet Countries of 2012 Across Three Years :')\n",
    "print(merge_df_3_yr_sub)"
   ]
  },
  {
   "cell_type": "code",
   "execution_count": null,
   "metadata": {
    "collapsed": true
   },
   "outputs": [],
   "source": []
  },
  {
   "cell_type": "code",
   "execution_count": null,
   "metadata": {
    "collapsed": true
   },
   "outputs": [],
   "source": []
  }
 ],
 "metadata": {
  "kernelspec": {
   "display_name": "Python 3",
   "language": "python",
   "name": "python3"
  },
  "language_info": {
   "codemirror_mode": {
    "name": "ipython",
    "version": 3
   },
   "file_extension": ".py",
   "mimetype": "text/x-python",
   "name": "python",
   "nbconvert_exporter": "python",
   "pygments_lexer": "ipython3",
   "version": "3.6.3"
  }
 },
 "nbformat": 4,
 "nbformat_minor": 2
}
