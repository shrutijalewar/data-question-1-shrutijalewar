{
 "cells": [
  {
   "cell_type": "markdown",
   "metadata": {},
   "source": [
    "### Data Sources\n",
    "##### Downloaded on Oct 17th 2017 (Step 1)\n",
    " 1.\tNet Migration (http://data.un.org/Data.aspx?d=WDI&f=Indicator_Code%3aSM.POP.NETM)\n",
    " 2.\tPercentage of Individuals using the Internet http://data.un.org/Data.aspx?d=ITU&f=ind1Code%3aI99H"
   ]
  },
  {
   "cell_type": "markdown",
   "metadata": {},
   "source": [
    "###### Setting up Notebook and importing relevant packages.(Step 2-4)"
   ]
  },
  {
   "cell_type": "code",
   "execution_count": 1,
   "metadata": {
    "collapsed": true
   },
   "outputs": [],
   "source": [
    "import pandas as pd \n",
    "import matplotlib as mpl \n",
    "import numpy as np \n",
    "import matplotlib.pyplot as plt \n",
    "%matplotlib inline\n"
   ]
  },
  {
   "cell_type": "markdown",
   "metadata": {},
   "source": [
    "###### Steps( 5-9) Read the file, display head , drop footnotes, change column names."
   ]
  },
  {
   "cell_type": "code",
   "execution_count": 2,
   "metadata": {},
   "outputs": [
    {
     "name": "stdout",
     "output_type": "stream",
     "text": [
      "Preview of CSV Load :\n",
      "  Country or Area  Year    Value  Value Footnotes\n",
      "0     Afghanistan  2012   473007              NaN\n",
      "1     Afghanistan  2007  -677497              NaN\n",
      "2     Afghanistan  2002   804120              NaN\n",
      "3     Afghanistan  1997  -379474              NaN\n",
      "4     Afghanistan  1992  2227474              NaN\n",
      "\n",
      "Preview of Dropped Footnotes :\n",
      "  Country or Area  Year    Value\n",
      "0     Afghanistan  2012   473007\n",
      "1     Afghanistan  2007  -677497\n",
      "2     Afghanistan  2002   804120\n",
      "3     Afghanistan  1997  -379474\n",
      "4     Afghanistan  1992  2227474\n",
      "\n",
      "Preview of Column Rename :\n",
      "       Country  Year  Net_migration\n",
      "0  Afghanistan  2012         473007\n",
      "1  Afghanistan  2007        -677497\n",
      "2  Afghanistan  2002         804120\n",
      "3  Afghanistan  1997        -379474\n",
      "4  Afghanistan  1992        2227474\n",
      "5  Afghanistan  1987       -1484185\n"
     ]
    }
   ],
   "source": [
    "net_mig_df = pd.read_csv('/Users/ssharma/code/nss-ds/data-question-1-shrutijalewar/data/net_migration_minor.csv')\n",
    "print('Preview of CSV Load :')\n",
    "print(net_mig_df.head())\n",
    "print('')\n",
    "net_mig_rename = net_mig_df.drop('Value Footnotes',axis=1)\n",
    "print('Preview of Dropped Footnotes :')\n",
    "print(net_mig_rename.head())\n",
    "print('')\n",
    "net_mig_rename = net_mig_rename.rename(columns={'Country or Area': 'Country','Value':'Net_migration'})\n",
    "print('Preview of Column Rename :')\n",
    "print(net_mig_rename.head(6))"
   ]
  },
  {
   "cell_type": "code",
   "execution_count": 3,
   "metadata": {},
   "outputs": [
    {
     "name": "stdout",
     "output_type": "stream",
     "text": [
      "Preview of CSV Load :\n",
      "  Country or Area  Year     Value  Value Footnotes\n",
      "0     Afghanistan  2014  6.390000              NaN\n",
      "1     Afghanistan  2013  5.900000              NaN\n",
      "2     Afghanistan  2012  5.454545              NaN\n",
      "3     Afghanistan  2011  5.000000              NaN\n",
      "4     Afghanistan  2010  4.000000              NaN\n",
      "\n",
      "Preview of Dropped Footnotes :\n",
      "  Country or Area  Year     Value\n",
      "0     Afghanistan  2014  6.390000\n",
      "1     Afghanistan  2013  5.900000\n",
      "2     Afghanistan  2012  5.454545\n",
      "3     Afghanistan  2011  5.000000\n",
      "4     Afghanistan  2010  4.000000\n",
      "\n",
      "Preview of Column Rename :\n",
      "       Country  Year  Inernet_users_pct\n",
      "0  Afghanistan  2014           6.390000\n",
      "1  Afghanistan  2013           5.900000\n",
      "2  Afghanistan  2012           5.454545\n",
      "3  Afghanistan  2011           5.000000\n",
      "4  Afghanistan  2010           4.000000\n",
      "5  Afghanistan  2009           3.550000\n"
     ]
    }
   ],
   "source": [
    "net_use_df = pd.read_csv('/Users/ssharma/code/nss-ds/data-question-1-shrutijalewar/data/internet_use_minor.csv', nrows=4495)\n",
    "print('Preview of CSV Load :')\n",
    "print(net_use_df.head())\n",
    "print('')\n",
    "net_use_rename = net_use_df.drop('Value Footnotes',axis=1)\n",
    "print('Preview of Dropped Footnotes :')\n",
    "print(net_use_rename.head())\n",
    "print('')\n",
    "net_use_rename = net_use_rename.rename(columns={'Country or Area': 'Country','Value':'Inernet_users_pct'})\n",
    "print('Preview of Column Rename :')\n",
    "print(net_use_rename.head(6))\n",
    "\n"
   ]
  },
  {
   "cell_type": "markdown",
   "metadata": {},
   "source": [
    "###### Merge the two dataframes as one.(Step 10-12) and see the first 5 and last 5 rows"
   ]
  },
  {
   "cell_type": "code",
   "execution_count": 4,
   "metadata": {},
   "outputs": [
    {
     "name": "stdout",
     "output_type": "stream",
     "text": [
      "Preview of First 5 :\n",
      "       Country  Year  Inernet_users_pct  Net_migration\n",
      "0  Afghanistan  2014           6.390000            NaN\n",
      "1  Afghanistan  2013           5.900000            NaN\n",
      "2  Afghanistan  2012           5.454545       473007.0\n",
      "3  Afghanistan  2011           5.000000            NaN\n",
      "4  Afghanistan  2010           4.000000            NaN\n",
      "\n",
      "Preview of Last 5 :\n",
      "       Country  Year  Inernet_users_pct  Net_migration\n",
      "6150  Zimbabwe  1982                NaN       141524.0\n",
      "6151  Zimbabwe  1977                NaN      -101516.0\n",
      "6152  Zimbabwe  1972                NaN       -30360.0\n",
      "6153  Zimbabwe  1967                NaN       -27996.0\n",
      "6154  Zimbabwe  1962                NaN       -10001.0\n"
     ]
    }
   ],
   "source": [
    "merge_df = pd.merge(net_use_rename,net_mig_rename, how='outer', on=['Country','Year'])\n",
    "print('Preview of First 5 :')\n",
    "print(merge_df.head(5))\n",
    "print('')\n",
    "print('Preview of Last 5 :')\n",
    "print(merge_df.tail(5))"
   ]
  },
  {
   "cell_type": "markdown",
   "metadata": {},
   "source": [
    "###### Subset the data frame to only have data for year 2002, 2007, and 2012 (Step 13)"
   ]
  },
  {
   "cell_type": "code",
   "execution_count": 5,
   "metadata": {},
   "outputs": [
    {
     "name": "stdout",
     "output_type": "stream",
     "text": [
      "Preview of 3 year subset:\n",
      "        Country  Year  Inernet_users_pct  Net_migration\n",
      "2   Afghanistan  2012           5.454545       473007.0\n",
      "7   Afghanistan  2007           1.900000      -677497.0\n",
      "12  Afghanistan  2002           0.004561       804120.0\n",
      "17      Albania  2012          54.655959       -91750.0\n",
      "22      Albania  2007          15.036115      -252926.0\n"
     ]
    }
   ],
   "source": [
    "merge_df_3_yr = merge_df.loc[merge_df['Year'].isin([2002,2007,2012])]\n",
    "print('Preview of 3 year subset:')\n",
    "print(merge_df_3_yr.head())"
   ]
  },
  {
   "cell_type": "markdown",
   "metadata": {},
   "source": [
    "###### Create 3 subsets each for year 2002,2007 and 2012 (Step 14)"
   ]
  },
  {
   "cell_type": "code",
   "execution_count": 6,
   "metadata": {},
   "outputs": [
    {
     "name": "stdout",
     "output_type": "stream",
     "text": [
      "Preview of year 2002:\n",
      "        Country  Year  Inernet_users_pct  Net_migration\n",
      "12  Afghanistan  2002           0.004561       804120.0\n",
      "27      Albania  2002           0.390081      -175406.0\n",
      "48      Algeria  2002           1.591641      -205228.0\n",
      "71      Andorra  2002          11.260469            NaN\n",
      "90       Angola  2002           0.270377       172594.0\n",
      "\n",
      "Preview of year 2007:\n",
      "        Country  Year  Inernet_users_pct  Net_migration\n",
      "7   Afghanistan  2007           1.900000      -677497.0\n",
      "22      Albania  2007          15.036115      -252926.0\n",
      "43      Algeria  2007           9.451191      -357340.0\n",
      "66      Andorra  2007          70.870000            NaN\n",
      "85       Angola  2007           3.200000        85286.0\n",
      "\n",
      "Preview of year 2012:\n",
      "        Country  Year  Inernet_users_pct  Net_migration\n",
      "2   Afghanistan  2012           5.454545       473007.0\n",
      "17      Albania  2012          54.655959       -91750.0\n",
      "38      Algeria  2012          15.228027      -143268.0\n",
      "61      Andorra  2012          86.434425            NaN\n",
      "80       Angola  2012          16.937210       102322.0\n"
     ]
    }
   ],
   "source": [
    "merge_df_2002 = merge_df.loc[merge_df['Year']==2002]\n",
    "print('Preview of year 2002:')\n",
    "print(merge_df_2002.head())\n",
    "print('')\n",
    "merge_df_2007 = merge_df.loc[merge_df['Year']==2007]\n",
    "print('Preview of year 2007:')\n",
    "print(merge_df_2007.head())\n",
    "print('')\n",
    "merge_df_2012 = merge_df.loc[merge_df['Year']==2012]\n",
    "print('Preview of year 2012:')\n",
    "print(merge_df_2012.head())"
   ]
  },
  {
   "cell_type": "markdown",
   "metadata": {},
   "source": [
    "###### Which country had the highest percent of internet users in 2012? What was the percentage? Step 15"
   ]
  },
  {
   "cell_type": "code",
   "execution_count": 7,
   "metadata": {},
   "outputs": [
    {
     "name": "stdout",
     "output_type": "stream",
     "text": [
      "Highest Percent Internet Users 2012 :\n",
      "      Country  Year  Inernet_users_pct  Net_migration\n",
      "1868  Iceland  2012            96.2098         -378.0\n"
     ]
    }
   ],
   "source": [
    "print('Highest Percent Internet Users 2012 :')\n",
    "print(merge_df_2012.sort_values('Inernet_users_pct', ascending = False).head(1))"
   ]
  },
  {
   "cell_type": "markdown",
   "metadata": {},
   "source": [
    "Highest percent of internet users in 2012 is **Iceland with ~96%**"
   ]
  },
  {
   "cell_type": "markdown",
   "metadata": {},
   "source": [
    "###### Which country had the lowest% of internet users in 2012? What was the percentage? Step 16"
   ]
  },
  {
   "cell_type": "code",
   "execution_count": 8,
   "metadata": {},
   "outputs": [
    {
     "name": "stdout",
     "output_type": "stream",
     "text": [
      "Lowest Percent Internet Users :\n",
      "                          Country  Year  Inernet_users_pct  Net_migration\n",
      "1066  Dem. People's Rep. of Korea  2012                0.0            NaN\n"
     ]
    }
   ],
   "source": [
    "print('Lowest Percent Internet Users :')\n",
    "print(merge_df_2012.sort_values('Inernet_users_pct', ascending = True).head(1))"
   ]
  },
  {
   "cell_type": "markdown",
   "metadata": {},
   "source": [
    "Lowest percent of internet users in 2012 is **Dem. People's Rep. of Kores with  0.0%**"
   ]
  },
  {
   "cell_type": "markdown",
   "metadata": {},
   "source": [
    "###### Which country had the highest and lowest percent of internet users in 2007 and 2002? What was the percentage? Step 17 -18"
   ]
  },
  {
   "cell_type": "code",
   "execution_count": 9,
   "metadata": {},
   "outputs": [
    {
     "name": "stdout",
     "output_type": "stream",
     "text": [
      "Highest Percent Internet Users 2007:\n",
      "      Country  Year  Inernet_users_pct  Net_migration\n",
      "1873  Iceland  2007               90.6         8041.0\n"
     ]
    }
   ],
   "source": [
    "print('Highest Percent Internet Users 2007:')\n",
    "print(merge_df_2007.sort_values('Inernet_users_pct', ascending = False).head(1))"
   ]
  },
  {
   "cell_type": "code",
   "execution_count": 10,
   "metadata": {},
   "outputs": [
    {
     "name": "stdout",
     "output_type": "stream",
     "text": [
      "Highest Percent Internet Users 2007:\n",
      "                          Country  Year  Inernet_users_pct  Net_migration\n",
      "1071  Dem. People's Rep. of Korea  2007                0.0            NaN\n"
     ]
    }
   ],
   "source": [
    "print('Highest Percent Internet Users 2007:')\n",
    "print(merge_df_2007.sort_values('Inernet_users_pct', ascending = True).head(1))"
   ]
  },
  {
   "cell_type": "code",
   "execution_count": 11,
   "metadata": {},
   "outputs": [
    {
     "name": "stdout",
     "output_type": "stream",
     "text": [
      "Highest Percent Internet Users 2002:\n",
      "      Country  Year  Inernet_users_pct  Net_migration\n",
      "1878  Iceland  2002              79.12         3894.0\n"
     ]
    }
   ],
   "source": [
    "print('Highest Percent Internet Users 2002:')\n",
    "print(merge_df_2002.sort_values('Inernet_users_pct', ascending = False).head(1))"
   ]
  },
  {
   "cell_type": "code",
   "execution_count": 12,
   "metadata": {},
   "outputs": [
    {
     "name": "stdout",
     "output_type": "stream",
     "text": [
      "Highest Percent Internet Users 2002:\n",
      "                          Country  Year  Inernet_users_pct  Net_migration\n",
      "1076  Dem. People's Rep. of Korea  2002                0.0            NaN\n"
     ]
    }
   ],
   "source": [
    "print('Highest Percent Internet Users 2002:')\n",
    "print(merge_df_2002.sort_values('Inernet_users_pct', ascending = True).head(1))"
   ]
  },
  {
   "cell_type": "markdown",
   "metadata": {},
   "source": [
    "###### Highest and lowest Net migration in 2012 Step 19 and 20"
   ]
  },
  {
   "cell_type": "code",
   "execution_count": 13,
   "metadata": {},
   "outputs": [
    {
     "name": "stdout",
     "output_type": "stream",
     "text": [
      "Highest Net Migration 2012 :\n",
      "                                        Country  Year  Inernet_users_pct  \\\n",
      "5112                                High income  2012                NaN   \n",
      "5650                               OECD members  2012                NaN   \n",
      "5633                              North America  2012                NaN   \n",
      "4951  Europe & Central Asia (all income levels)  2012                NaN   \n",
      "4279                              United States  2012               79.3   \n",
      "\n",
      "      Net_migration  \n",
      "5112     15359563.0  \n",
      "5650     13138424.0  \n",
      "5633      6183750.0  \n",
      "4951      5547385.0  \n",
      "4279      5007887.0  \n",
      "Lowest Net Migration 2012 :\n",
      "                                           Country  Year  Inernet_users_pct  \\\n",
      "5395                           Lower middle income  2012                NaN   \n",
      "5373                           Low & middle income  2012                NaN   \n",
      "5524                                 Middle income  2012                NaN   \n",
      "5847                                    South Asia  2012                NaN   \n",
      "5325  Least developed countries: UN classification  2012                NaN   \n",
      "5944                          Syrian Arab Republic  2012                NaN   \n",
      "4878         East Asia & Pacific (developing only)  2012                NaN   \n",
      "5513  Middle East & North Africa (developing only)  2012                NaN   \n",
      "5101        Heavily indebted poor countries (HIPC)  2012                NaN   \n",
      "1893                                         India  2012          12.580061   \n",
      "\n",
      "      Net_migration  \n",
      "5395    -15784815.0  \n",
      "5373    -15350665.0  \n",
      "5524    -14235047.0  \n",
      "5847     -6280804.0  \n",
      "5325     -4741314.0  \n",
      "5944     -4029996.0  \n",
      "4878     -3728059.0  \n",
      "5513     -3615666.0  \n",
      "5101     -2672487.0  \n",
      "1893     -2598218.0  \n"
     ]
    }
   ],
   "source": [
    "print('Highest Net Migration 2012 :')\n",
    "print(merge_df_2012.sort_values('Net_migration', ascending = False).head())\n",
    "print('Lowest Net Migration 2012 :')\n",
    "print(merge_df_2012.sort_values('Net_migration', ascending = True).head(10))"
   ]
  },
  {
   "cell_type": "markdown",
   "metadata": {},
   "source": [
    "For a country in 2012 the highest net migration is for **United States with 5007887.0** and lowest is for **Syrian Arab Republic with -4029996.0 ** "
   ]
  },
  {
   "cell_type": "markdown",
   "metadata": {},
   "source": [
    "###### Scatter Plots Step 21"
   ]
  },
  {
   "cell_type": "code",
   "execution_count": 14,
   "metadata": {},
   "outputs": [
    {
     "data": {
      "image/png": "[encoded data removed]",
      "text/plain": [
       "<matplotlib.figure.Figure at 0x112dfce10>"
      ]
     },
     "metadata": {},
     "output_type": "display_data"
    },
    {
     "data": {
      "image/png": "[encoded data removed]",
      "text/plain": [
       "<matplotlib.figure.Figure at 0x10bf8ca20>"
      ]
     },
     "metadata": {},
     "output_type": "display_data"
    },
    {
     "data": {
      "image/png": "[encoded data removed]",
      "text/plain": [
       "<matplotlib.figure.Figure at 0x112e83400>"
      ]
     },
     "metadata": {},
     "output_type": "display_data"
    }
   ],
   "source": [
    "plt.scatter(merge_df_2002.Inernet_users_pct,merge_df_2002.Net_migration)\n",
    "plt.xlabel('Internet Users(%)')\n",
    "plt.ylabel('Net Migration')\n",
    "plt.title('Internet Usage vs. Net Migration in Year 2002')\n",
    "plt.show()\n",
    "\n",
    "plt.scatter(merge_df_2007.Inernet_users_pct,merge_df_2007.Net_migration)\n",
    "plt.xlabel('Internet Users(%)')\n",
    "plt.ylabel('Net Migration')\n",
    "plt.title('Internet Usage vs. Net Migration in Year 2007')\n",
    "plt.show()\n",
    "\n",
    "plt.scatter(merge_df_2012.Inernet_users_pct,merge_df_2012.Net_migration)\n",
    "plt.xlabel('Internet Users(%)')\n",
    "plt.ylabel('Net Migration')\n",
    "plt.title('Internet Usage vs. Net Migration in Year 2012')\n",
    "plt.show()"
   ]
  },
  {
   "cell_type": "code",
   "execution_count": 15,
   "metadata": {},
   "outputs": [
    {
     "name": "stdout",
     "output_type": "stream",
     "text": [
      "                                        Country  Year  Inernet_users_pct  \\\n",
      "5112                                High income  2012                NaN   \n",
      "5650                               OECD members  2012                NaN   \n",
      "5633                              North America  2012                NaN   \n",
      "4951  Europe & Central Asia (all income levels)  2012                NaN   \n",
      "4279                              United States  2012          79.300000   \n",
      "4973                             European Union  2012                NaN   \n",
      "4962    Europe & Central Asia (developing only)  2012                NaN   \n",
      "4140                                     Turkey  2012          45.130000   \n",
      "4940                                  Euro area  2012                NaN   \n",
      "6053                        Upper middle income  2012                NaN   \n",
      "2299                                    Lebanon  2012          61.249786   \n",
      "1513                                    Germany  2012          82.349998   \n",
      "3043                                       Oman  2012          60.000000   \n",
      "706                                      Canada  2012          83.000000   \n",
      "5743                         Russian Federation  2012                NaN   \n",
      "185                                   Australia  2012          79.000000   \n",
      "4254                             United Kingdom  2012          87.479998   \n",
      "3463                               Saudi Arabia  2012          54.000000   \n",
      "3670                               South Africa  2012          41.000000   \n",
      "1961                                       Iraq  2012           7.100000   \n",
      "2026                                      Italy  2012          55.829998   \n",
      "2220                                     Kuwait  2012          70.450000   \n",
      "2                                   Afghanistan  2012           5.454545   \n",
      "2494                                   Malaysia  2012          65.800000   \n",
      "4233                       United Arab Emirates  2012          84.999992   \n",
      "3558                                  Singapore  2012          72.000000   \n",
      "3852                                Switzerland  2012          85.200000   \n",
      "3281                                      Qatar  2012          69.300000   \n",
      "2073                                      Japan  2012          79.496400   \n",
      "1391                                     France  2012          81.440000   \n",
      "5256                                Korea, Rep.  2012                NaN   \n",
      "3827                                     Sweden  2012          93.179988   \n",
      "353                                     Belgium  2012          80.719991   \n",
      "3018                                     Norway  2012          94.649978   \n",
      "2113                                     Jordan  2012          37.000000   \n",
      "803                                       Chile  2012          61.418155   \n",
      "4210                                    Ukraine  2012          35.270000   \n",
      "2134                                 Kazakhstan  2012          53.315669   \n",
      "5130                       Hong Kong SAR, China  2012                NaN   \n",
      "207                                     Austria  2012          80.029994   \n",
      "\n",
      "      Net_migration  \n",
      "5112     15359563.0  \n",
      "5650     13138424.0  \n",
      "5633      6183750.0  \n",
      "4951      5547385.0  \n",
      "4279      5007887.0  \n",
      "4973      2324066.0  \n",
      "4962      2121162.0  \n",
      "4140      2000003.0  \n",
      "4940      1575613.0  \n",
      "6053      1549768.0  \n",
      "2299      1250000.0  \n",
      "1513      1249998.0  \n",
      "3043      1211000.0  \n",
      "706       1175863.0  \n",
      "5743      1117884.0  \n",
      "185       1023107.0  \n",
      "4254       900000.0  \n",
      "3463       850000.0  \n",
      "3670       600000.0  \n",
      "1961       548666.0  \n",
      "2026       528269.0  \n",
      "2220       517500.0  \n",
      "2          473007.0  \n",
      "2494       450000.0  \n",
      "4233       405000.0  \n",
      "3558       397936.0  \n",
      "3852       382267.0  \n",
      "3281       363500.0  \n",
      "2073       350000.0  \n",
      "1391       331555.0  \n",
      "5256       300000.0  \n",
      "3827       272626.0  \n",
      "353        269998.0  \n",
      "3018       235665.0  \n",
      "2113       229617.0  \n",
      "803        201289.0  \n",
      "4210       195000.0  \n",
      "2134       159807.0  \n",
      "5130       150000.0  \n",
      "207        147089.0  \n"
     ]
    }
   ],
   "source": [
    "print(merge_df_2012.sort_values('Net_migration', ascending = False).head(40))"
   ]
  },
  {
   "cell_type": "markdown",
   "metadata": {},
   "source": [
    "**Step 22 Observations:**\n",
    "Internet usage has increased in the 10 years from 2002 to 2012 the world over. Net migration the world over is generally negative for countries and categories with less internet usage. The categories with higher proportion of internet use also have generally positive net migrations indicating free mobility. That may possibly be because of more *liberal visa/travel regulations and trade regulations*. These regions/countries have **freely available regional information and opportunity**. This is purely a hypothesis at this point proposed as a broad generalization that seems to sit well with the categories and countries observed in the list of top 40. "
   ]
  },
  {
   "cell_type": "code",
   "execution_count": 16,
   "metadata": {},
   "outputs": [
    {
     "data": {
      "image/png": "[encoded data removed]",
      "text/plain": [
       "<matplotlib.figure.Figure at 0x11b5077b8>"
      ]
     },
     "metadata": {},
     "output_type": "display_data"
    }
   ],
   "source": [
    "net_mig_2012 = net_mig_rename.loc[net_mig_rename['Year']== 2012]\n",
    "plt.hist(net_mig_2012.Net_migration, bins=15)\n",
    "plt.xlabel('Internet Users(%)')\n",
    "plt.ylabel('Net Migration')\n",
    "plt.title('Net Migration in Year 2012')\n",
    "plt.show()"
   ]
  },
  {
   "cell_type": "markdown",
   "metadata": {},
   "source": [
    "###### Look at the distribution of Internet Use for 2012. Is it unimodal? (Step 23)\n",
    "**Yes**"
   ]
  },
  {
   "cell_type": "markdown",
   "metadata": {},
   "source": [
    "Step 24"
   ]
  },
  {
   "cell_type": "code",
   "execution_count": 17,
   "metadata": {},
   "outputs": [
    {
     "data": {
      "image/png": "[encoded data removed]",
      "text/plain": [
       "<matplotlib.figure.Figure at 0x11b650390>"
      ]
     },
     "metadata": {},
     "output_type": "display_data"
    }
   ],
   "source": [
    "net_use_2012 = net_use_rename.loc[net_use_rename['Year']== 2012]\n",
    "plt.hist(net_use_2012.Inernet_users_pct, bins=15)\n",
    "plt.xlabel('Internet Users(%)')\n",
    "plt.ylabel('Net Migration')\n",
    "plt.title('Net Migration in Year 2012')\n",
    "plt.show()"
   ]
  },
  {
   "cell_type": "markdown",
   "metadata": {},
   "source": [
    "###### Look at the distribution of Internet Use for 2012. Is it unimodal? step 24\n",
    "**No. It looks more bimodal in distribution.**"
   ]
  },
  {
   "cell_type": "markdown",
   "metadata": {},
   "source": [
    "###### Step 25 Top 5 countries for Internet use"
   ]
  },
  {
   "cell_type": "code",
   "execution_count": 18,
   "metadata": {},
   "outputs": [
    {
     "name": "stdout",
     "output_type": "stream",
     "text": [
      "Top 5 countries for Internet use :\n",
      "          Country  Year  Inernet_users_pct  Net_migration\n",
      "1868      Iceland  2012          96.209800         -378.0\n",
      "3018       Norway  2012          94.649978       235665.0\n",
      "3827       Sweden  2012          93.179988       272626.0\n",
      "2882  Netherlands  2012          92.859992       110006.0\n",
      "1085      Denmark  2012          92.260012        96839.0\n"
     ]
    }
   ],
   "source": [
    "print('Top 5 countries for Internet use :')\n",
    "print(merge_df_2012.sort_values('Inernet_users_pct', ascending = False).head(5))"
   ]
  },
  {
   "cell_type": "markdown",
   "metadata": {},
   "source": [
    "###### Step 26 Top 5 countries for Internet use across the three years"
   ]
  },
  {
   "cell_type": "code",
   "execution_count": 19,
   "metadata": {},
   "outputs": [
    {
     "name": "stdout",
     "output_type": "stream",
     "text": [
      "Top 5 Internet Countries of 2012 Across Three Years :\n",
      "          Country  Year  Inernet_users_pct  Net_migration\n",
      "1085      Denmark  2012          92.260012        96839.0\n",
      "1090      Denmark  2007          85.030000        87989.0\n",
      "1095      Denmark  2002          64.250000        46306.0\n",
      "1868      Iceland  2012          96.209800         -378.0\n",
      "1873      Iceland  2007          90.600000         8041.0\n",
      "1878      Iceland  2002          79.120000         3894.0\n",
      "2882  Netherlands  2012          92.859992       110006.0\n",
      "2887  Netherlands  2007          85.820000        55674.0\n",
      "2892  Netherlands  2002          61.290000       144620.0\n",
      "3018       Norway  2012          94.649978       235665.0\n",
      "3023       Norway  2007          86.930000       174001.0\n",
      "3028       Norway  2002          72.840000        67400.0\n",
      "3827       Sweden  2012          93.179988       272626.0\n",
      "3832       Sweden  2007          82.010000       262453.0\n",
      "3837       Sweden  2002          70.570000       141723.0\n"
     ]
    }
   ],
   "source": [
    "merge_df_3_yr_top5 = merge_df_3_yr.loc[merge_df_3_yr['Country'].isin(['Iceland','Norway','Sweden','Netherlands','Denmark'])]\n",
    "print('Top 5 Internet Countries of 2012 Across Three Years :')\n",
    "print(merge_df_3_yr_top5)"
   ]
  },
  {
   "cell_type": "markdown",
   "metadata": {},
   "source": [
    "###### Seaborn facet grid plot for top 5 internet usage step 27"
   ]
  },
  {
   "cell_type": "code",
   "execution_count": 20,
   "metadata": {
    "collapsed": true
   },
   "outputs": [],
   "source": [
    "import seaborn as sns"
   ]
  },
  {
   "cell_type": "code",
   "execution_count": 21,
   "metadata": {},
   "outputs": [
    {
     "data": {
      "image/png": "[encoded data removed]",
      "text/plain": [
       "<matplotlib.figure.Figure at 0x1a1cf9c8d0>"
      ]
     },
     "metadata": {},
     "output_type": "display_data"
    }
   ],
   "source": [
    "g = sns.FacetGrid(merge_df_3_yr_top5, col='Country') \n",
    "g.map(plt.scatter,'Year','Inernet_users_pct',)\n",
    "plt.xlim(2001, 2015) \n",
    "plt.ylim(50, 100)\n",
    "for ax in g.axes.flat: \n",
    "    plt.setp(ax.get_xticklabels(), rotation=45)\n"
   ]
  },
  {
   "cell_type": "markdown",
   "metadata": {},
   "source": [
    "###### 5 countries with the lowest 2012 internet usage Step 28"
   ]
  },
  {
   "cell_type": "code",
   "execution_count": 22,
   "metadata": {},
   "outputs": [
    {
     "name": "stdout",
     "output_type": "stream",
     "text": [
      "Bottom 5 countries for Internet use :\n",
      "                          Country  Year  Inernet_users_pct  Net_migration\n",
      "1066  Dem. People's Rep. of Korea  2012             0.0000            NaN\n",
      "1258                      Eritrea  2012             0.8000      -160001.0\n",
      "4021                  Timor-Leste  2012             0.9147       -50004.0\n",
      "2816                      Myanmar  2012             1.0691      -474278.0\n",
      "625                       Burundi  2012             1.2200        40000.0\n"
     ]
    }
   ],
   "source": [
    "print('Bottom 5 countries for Internet use :')\n",
    "print(merge_df_2012.sort_values('Inernet_users_pct', ascending = True).head(5))"
   ]
  },
  {
   "cell_type": "code",
   "execution_count": 23,
   "metadata": {},
   "outputs": [
    {
     "name": "stdout",
     "output_type": "stream",
     "text": [
      "Bottom 5 Internet Countries of 2012 Across Three Years :\n",
      "                          Country  Year  Inernet_users_pct  Net_migration\n",
      "625                       Burundi  2012           1.220000        40000.0\n",
      "630                       Burundi  2007           0.700000       163733.0\n",
      "635                       Burundi  2002           0.118228       112532.0\n",
      "1066  Dem. People's Rep. of Korea  2012           0.000000            NaN\n",
      "1071  Dem. People's Rep. of Korea  2007           0.000000            NaN\n",
      "1076  Dem. People's Rep. of Korea  2002           0.000000            NaN\n",
      "1258                      Eritrea  2012           0.800000      -160001.0\n",
      "1263                      Eritrea  2007           0.410000      -160001.0\n",
      "1264                      Eritrea  2002           0.227090       110001.0\n",
      "2816                      Myanmar  2012           1.069100      -474278.0\n",
      "2821                      Myanmar  2007           0.217128     -1466799.0\n",
      "2826                      Myanmar  2002           0.000426     -1372688.0\n",
      "4021                  Timor-Leste  2012           0.914700       -50004.0\n",
      "4026                  Timor-Leste  2007           0.140959      -104946.0\n",
      "4029                  Timor-Leste  2002           0.000000           12.0\n"
     ]
    }
   ],
   "source": [
    "merge_df_3_yr_bottom5 = merge_df_3_yr.loc[merge_df_3_yr['Country'].isin([\"Dem. People's Rep. of Korea\",'Eritrea','Timor-Leste','Myanmar','Burundi'])]\n",
    "print('Bottom 5 Internet Countries of 2012 Across Three Years :')\n",
    "print(merge_df_3_yr_bottom5)"
   ]
  },
  {
   "cell_type": "code",
   "execution_count": 24,
   "metadata": {},
   "outputs": [
    {
     "data": {
      "image/png": "[encoded data removed]",
      "text/plain": [
       "<matplotlib.figure.Figure at 0x1a1d333940>"
      ]
     },
     "metadata": {},
     "output_type": "display_data"
    }
   ],
   "source": [
    "g = sns.FacetGrid(merge_df_3_yr_bottom5, col='Country') \n",
    "g.map(plt.scatter,'Year','Inernet_users_pct',)\n",
    "plt.xlim(2001, 2015) \n",
    "plt.ylim(-1, 2)\n",
    "for ax in g.axes.flat: \n",
    "    plt.setp(ax.get_xticklabels(), rotation=45)\n"
   ]
  },
  {
   "cell_type": "markdown",
   "metadata": {},
   "source": [
    "###### Seaborn plots for Top 5 for 2012 and bottom 5 for 2012 for net migration to look at 10-year trends. Step 29"
   ]
  },
  {
   "cell_type": "code",
   "execution_count": 25,
   "metadata": {},
   "outputs": [
    {
     "name": "stdout",
     "output_type": "stream",
     "text": [
      "Top 5 countries for Net Migration :\n",
      "                                        Country  Year  Inernet_users_pct  \\\n",
      "5112                                High income  2012                NaN   \n",
      "5650                               OECD members  2012                NaN   \n",
      "5633                              North America  2012                NaN   \n",
      "4951  Europe & Central Asia (all income levels)  2012                NaN   \n",
      "4279                              United States  2012          79.300000   \n",
      "4973                             European Union  2012                NaN   \n",
      "4962    Europe & Central Asia (developing only)  2012                NaN   \n",
      "4140                                     Turkey  2012          45.130000   \n",
      "4940                                  Euro area  2012                NaN   \n",
      "6053                        Upper middle income  2012                NaN   \n",
      "2299                                    Lebanon  2012          61.249786   \n",
      "1513                                    Germany  2012          82.349998   \n",
      "3043                                       Oman  2012          60.000000   \n",
      "706                                      Canada  2012          83.000000   \n",
      "\n",
      "      Net_migration  \n",
      "5112     15359563.0  \n",
      "5650     13138424.0  \n",
      "5633      6183750.0  \n",
      "4951      5547385.0  \n",
      "4279      5007887.0  \n",
      "4973      2324066.0  \n",
      "4962      2121162.0  \n",
      "4140      2000003.0  \n",
      "4940      1575613.0  \n",
      "6053      1549768.0  \n",
      "2299      1250000.0  \n",
      "1513      1249998.0  \n",
      "3043      1211000.0  \n",
      "706       1175863.0  \n"
     ]
    }
   ],
   "source": [
    "print('Top 5 countries for Net Migration :')\n",
    "print(merge_df_2012.sort_values('Net_migration', ascending = False).head(14))"
   ]
  },
  {
   "cell_type": "markdown",
   "metadata": {},
   "source": [
    "###### Top 5 countries for Net Migration : 'United States’,’Turkey’,’Lebanon’,’Germany’,'Oman'"
   ]
  },
  {
   "cell_type": "code",
   "execution_count": 26,
   "metadata": {},
   "outputs": [
    {
     "name": "stdout",
     "output_type": "stream",
     "text": [
      "Top 5 Net Migration Countries of 2012 Across Three Years :\n",
      "            Country  Year  Inernet_users_pct  Net_migration\n",
      "1513        Germany  2012          82.349998      1249998.0\n",
      "1518        Germany  2007          75.160000        31640.0\n",
      "1523        Germany  2002          48.820000         1217.0\n",
      "2299        Lebanon  2012          61.249786      1250000.0\n",
      "2304        Lebanon  2007          18.740000       183370.0\n",
      "2309        Lebanon  2002           7.000000       550110.0\n",
      "3043           Oman  2012          60.000000      1211000.0\n",
      "3048           Oman  2007          16.680000       185500.0\n",
      "3053           Oman  2002           6.873396        40452.0\n",
      "4140         Turkey  2012          45.130000      2000003.0\n",
      "4145         Turkey  2007          28.630000       -50000.0\n",
      "4150         Turkey  2002          11.380000      -100002.0\n",
      "4279  United States  2012          79.300000      5007887.0\n",
      "4284  United States  2007          75.000000      5070253.0\n",
      "4289  United States  2002          58.785404      5149157.0\n"
     ]
    }
   ],
   "source": [
    "merge_df_3_yr_top5_mig = merge_df_3_yr.loc[merge_df_3_yr['Country'].isin(['United States','Turkey','Lebanon','Germany','Oman'])]\n",
    "print('Top 5 Net Migration Countries of 2012 Across Three Years :')\n",
    "print(merge_df_3_yr_top5_mig)"
   ]
  },
  {
   "cell_type": "code",
   "execution_count": 27,
   "metadata": {},
   "outputs": [
    {
     "data": {
      "image/png": "[encoded data removed]",
      "text/plain": [
       "<matplotlib.figure.Figure at 0x1a1d7f7f28>"
      ]
     },
     "metadata": {},
     "output_type": "display_data"
    }
   ],
   "source": [
    "g = sns.FacetGrid(merge_df_3_yr_top5_mig, col='Country') \n",
    "g.map(plt.scatter,'Year','Net_migration',)\n",
    "plt.xlim(2001, 2015)\n",
    "plt.ylim(-1000000, 6000000) \n",
    "plt.yticks([6000000,5000000,4000000,3000000,2000000,1000000,0,-1000000],['6M','5M','4M','3M','2M','1M','0','-1M'])\n",
    "for ax in g.axes.flat: \n",
    "    plt.setp(ax.get_xticklabels(), rotation=45)\n"
   ]
  },
  {
   "cell_type": "code",
   "execution_count": 28,
   "metadata": {},
   "outputs": [
    {
     "name": "stdout",
     "output_type": "stream",
     "text": [
      "Bottom 5 countries for Net Migration :\n",
      "                                            Country  Year  Inernet_users_pct  \\\n",
      "5395                            Lower middle income  2012                NaN   \n",
      "5373                            Low & middle income  2012                NaN   \n",
      "5524                                  Middle income  2012                NaN   \n",
      "5847                                     South Asia  2012                NaN   \n",
      "5325   Least developed countries: UN classification  2012                NaN   \n",
      "5944                           Syrian Arab Republic  2012                NaN   \n",
      "4878          East Asia & Pacific (developing only)  2012                NaN   \n",
      "5513   Middle East & North Africa (developing only)  2012                NaN   \n",
      "5101         Heavily indebted poor countries (HIPC)  2012                NaN   \n",
      "1893                                          India  2012          12.580061   \n",
      "294                                      Bangladesh  2012           5.000000   \n",
      "5307    Latin America & Caribbean (developing only)  2012                NaN   \n",
      "5296  Latin America & Caribbean (all income levels)  2012                NaN   \n",
      "827                                           China  2012          42.300117   \n",
      "5889         Sub-Saharan Africa (all income levels)  2012                NaN   \n",
      "5900           Sub-Saharan Africa (developing only)  2012                NaN   \n",
      "4867        East Asia & Pacific (all income levels)  2012                NaN   \n",
      "4531                                     Arab World  2012                NaN   \n",
      "5384                                     Low income  2012                NaN   \n",
      "3063                                       Pakistan  2012           9.960000   \n",
      "\n",
      "      Net_migration  \n",
      "5395    -15784815.0  \n",
      "5373    -15350665.0  \n",
      "5524    -14235047.0  \n",
      "5847     -6280804.0  \n",
      "5325     -4741314.0  \n",
      "5944     -4029996.0  \n",
      "4878     -3728059.0  \n",
      "5513     -3615666.0  \n",
      "5101     -2672487.0  \n",
      "1893     -2598218.0  \n",
      "294      -2226481.0  \n",
      "5307     -2159855.0  \n",
      "5296     -2081948.0  \n",
      "827      -1800000.0  \n",
      "5889     -1688994.0  \n",
      "5900     -1687443.0  \n",
      "4867     -1457489.0  \n",
      "4531     -1168750.0  \n",
      "5384     -1115618.0  \n",
      "3063     -1081918.0  \n"
     ]
    }
   ],
   "source": [
    "print('Bottom 5 countries for Net Migration :')\n",
    "print(merge_df_2012.sort_values('Net_migration', ascending = True).head(20))"
   ]
  },
  {
   "cell_type": "markdown",
   "metadata": {},
   "source": [
    "###### Bottom 5 countries for Net Migration in 2012 'Syrian Arab Republic','India','Bangladesh','China','Pakistan'"
   ]
  },
  {
   "cell_type": "code",
   "execution_count": 29,
   "metadata": {},
   "outputs": [
    {
     "name": "stdout",
     "output_type": "stream",
     "text": [
      "Bottom 5 Net Migration Countries of 2012 Across Three Years :\n",
      "                   Country  Year  Inernet_users_pct  Net_migration\n",
      "294             Bangladesh  2012           5.000000     -2226481.0\n",
      "299             Bangladesh  2007           1.800000     -3570954.0\n",
      "304             Bangladesh  2002           0.139920     -1700003.0\n",
      "827                  China  2012          42.300117     -1800000.0\n",
      "832                  China  2007          16.000000     -2202103.0\n",
      "837                  China  2002           4.595704     -2144051.0\n",
      "1893                 India  2012          12.580061     -2598218.0\n",
      "1898                 India  2007           3.950000     -2829378.0\n",
      "1903                 India  2002           1.537876     -2206411.0\n",
      "3063              Pakistan  2012           9.960000     -1081918.0\n",
      "3068              Pakistan  2007           6.800000     -1296372.0\n",
      "3073              Pakistan  2002           2.577427      -896486.0\n",
      "5944  Syrian Arab Republic  2012                NaN     -4029996.0\n",
      "5945  Syrian Arab Republic  2007                NaN       370000.0\n",
      "5946  Syrian Arab Republic  2002                NaN      -379910.0\n"
     ]
    }
   ],
   "source": [
    "merge_df_3_yr_bottom5_mig = merge_df_3_yr.loc[merge_df_3_yr['Country'].isin(['Syrian Arab Republic','India','Bangladesh','China','Pakistan'])]\n",
    "print('Bottom 5 Net Migration Countries of 2012 Across Three Years :')\n",
    "print(merge_df_3_yr_bottom5_mig)"
   ]
  },
  {
   "cell_type": "code",
   "execution_count": 30,
   "metadata": {},
   "outputs": [
    {
     "data": {
      "image/png": "[encoded data removed]",
      "text/plain": [
       "<matplotlib.figure.Figure at 0x1a1dc619e8>"
      ]
     },
     "metadata": {},
     "output_type": "display_data"
    }
   ],
   "source": [
    "g = sns.FacetGrid(merge_df_3_yr_bottom5_mig, col='Country') \n",
    "g.map(plt.scatter,'Year','Net_migration',)\n",
    "plt.xlim(2001, 2015) \n",
    "plt.yticks([-4000000,-3000000,-2000000,-1000000,0,1000000],['-4M','-3M','-2M','-1M','0','1M'])\n",
    "for ax in g.axes.flat: \n",
    "    plt.setp(ax.get_xticklabels(), rotation=45)"
   ]
  },
  {
   "cell_type": "markdown",
   "metadata": {},
   "source": [
    "###### Step 30 \n",
    "Is there anything surprising or unusual in any of these plots? Searching on the internet, can you find any possible explanations for unusual findings?"
   ]
  },
  {
   "cell_type": "markdown",
   "metadata": {},
   "source": [
    "Looking at the net migration data, following observations break a trend or are significantly out of line for the trend.\n",
    "\n",
    "1. **Bangladesh in 2007** shows a increased deficit of about a million in net migration. It has always been negative but there is an additional exodus of about ~1 million in that year. This time frame correlates with the time of political unrest that began in the end of 2006 and continued till 2008. Dissolution of civil government was followed by severe human rights violations, rise of extremist militancy, corruption and curbed freedom of expression. \n",
    "\n",
    "2. **Syria in 2012** shows a steep drop from 0.3 million to -4million. This correlates with the political crisis and civil war in the region that began and escalated since then. Interestingly enough for the same year you see a **corresponding increase in net migration** other peaceful countries of the region namely **Turkey, Lebanon and Germany** that is somewhat more than expected trend.\n",
    "3. Penetrance on internet has been on the rise the world over. More people use internet now than 10 years back.\n",
    "4. There seems to be a **bigger jump in the percent of internet users from 2002 to 2007**. This in part seems to corelate with **introduction of smartphones**. Apple launched its first iPhone in 2007 and the first android phone is launched in 2008. The bigger jump may in part be due to internet going mobile!"
   ]
  },
  {
   "cell_type": "markdown",
   "metadata": {},
   "source": [
    "###### In class practice 2:"
   ]
  },
  {
   "cell_type": "code",
   "execution_count": 31,
   "metadata": {},
   "outputs": [
    {
     "name": "stdout",
     "output_type": "stream",
     "text": [
      "\n",
      "==========================================\n",
      "Statistical functions (:mod:`scipy.stats`)\n",
      "==========================================\n",
      "\n",
      ".. module:: scipy.stats\n",
      "\n",
      "This module contains a large number of probability distributions as\n",
      "well as a growing library of statistical functions.\n",
      "\n",
      "Each univariate distribution is an instance of a subclass of `rv_continuous`\n",
      "(`rv_discrete` for discrete distributions):\n",
      "\n",
      ".. autosummary::\n",
      "   :toctree: generated/\n",
      "\n",
      "   rv_continuous\n",
      "   rv_discrete\n",
      "   rv_histogram\n",
      "\n",
      "Continuous distributions\n",
      "========================\n",
      "\n",
      ".. autosummary::\n",
      "   :toctree: generated/\n",
      "\n",
      "   alpha             -- Alpha\n",
      "   anglit            -- Anglit\n",
      "   arcsine           -- Arcsine\n",
      "   argus             -- Argus\n",
      "   beta              -- Beta\n",
      "   betaprime         -- Beta Prime\n",
      "   bradford          -- Bradford\n",
      "   burr              -- Burr (Type III)\n",
      "   burr12            -- Burr (Type XII)\n",
      "   cauchy            -- Cauchy\n",
      "   chi               -- Chi\n",
      "   chi2              -- Chi-squared\n",
      "   cosine            -- Cosine\n",
      "   dgamma            -- Double Gamma\n",
      "   dweibull          -- Double Weibull\n",
      "   erlang            -- Erlang\n",
      "   expon             -- Exponential\n",
      "   exponnorm         -- Exponentially Modified Normal\n",
      "   exponweib         -- Exponentiated Weibull\n",
      "   exponpow          -- Exponential Power\n",
      "   f                 -- F (Snecdor F)\n",
      "   fatiguelife       -- Fatigue Life (Birnbaum-Saunders)\n",
      "   fisk              -- Fisk\n",
      "   foldcauchy        -- Folded Cauchy\n",
      "   foldnorm          -- Folded Normal\n",
      "   frechet_r         -- Frechet Right Sided, Extreme Value Type II (Extreme LB) or weibull_min\n",
      "   frechet_l         -- Frechet Left Sided, Weibull_max\n",
      "   genlogistic       -- Generalized Logistic\n",
      "   gennorm           -- Generalized normal\n",
      "   genpareto         -- Generalized Pareto\n",
      "   genexpon          -- Generalized Exponential\n",
      "   genextreme        -- Generalized Extreme Value\n",
      "   gausshyper        -- Gauss Hypergeometric\n",
      "   gamma             -- Gamma\n",
      "   gengamma          -- Generalized gamma\n",
      "   genhalflogistic   -- Generalized Half Logistic\n",
      "   gilbrat           -- Gilbrat\n",
      "   gompertz          -- Gompertz (Truncated Gumbel)\n",
      "   gumbel_r          -- Right Sided Gumbel, Log-Weibull, Fisher-Tippett, Extreme Value Type I\n",
      "   gumbel_l          -- Left Sided Gumbel, etc.\n",
      "   halfcauchy        -- Half Cauchy\n",
      "   halflogistic      -- Half Logistic\n",
      "   halfnorm          -- Half Normal\n",
      "   halfgennorm       -- Generalized Half Normal\n",
      "   hypsecant         -- Hyperbolic Secant\n",
      "   invgamma          -- Inverse Gamma\n",
      "   invgauss          -- Inverse Gaussian\n",
      "   invweibull        -- Inverse Weibull\n",
      "   johnsonsb         -- Johnson SB\n",
      "   johnsonsu         -- Johnson SU\n",
      "   kappa4            -- Kappa 4 parameter\n",
      "   kappa3            -- Kappa 3 parameter\n",
      "   ksone             -- Kolmogorov-Smirnov one-sided (no stats)\n",
      "   kstwobign         -- Kolmogorov-Smirnov two-sided test for Large N (no stats)\n",
      "   laplace           -- Laplace\n",
      "   levy              -- Levy\n",
      "   levy_l\n",
      "   levy_stable\n",
      "   logistic          -- Logistic\n",
      "   loggamma          -- Log-Gamma\n",
      "   loglaplace        -- Log-Laplace (Log Double Exponential)\n",
      "   lognorm           -- Log-Normal\n",
      "   lomax             -- Lomax (Pareto of the second kind)\n",
      "   maxwell           -- Maxwell\n",
      "   mielke            -- Mielke's Beta-Kappa\n",
      "   nakagami          -- Nakagami\n",
      "   ncx2              -- Non-central chi-squared\n",
      "   ncf               -- Non-central F\n",
      "   nct               -- Non-central Student's T\n",
      "   norm              -- Normal (Gaussian)\n",
      "   pareto            -- Pareto\n",
      "   pearson3          -- Pearson type III\n",
      "   powerlaw          -- Power-function\n",
      "   powerlognorm      -- Power log normal\n",
      "   powernorm         -- Power normal\n",
      "   rdist             -- R-distribution\n",
      "   reciprocal        -- Reciprocal\n",
      "   rayleigh          -- Rayleigh\n",
      "   rice              -- Rice\n",
      "   recipinvgauss     -- Reciprocal Inverse Gaussian\n",
      "   semicircular      -- Semicircular\n",
      "   skewnorm          -- Skew normal\n",
      "   t                 -- Student's T\n",
      "   trapz              -- Trapezoidal\n",
      "   triang            -- Triangular\n",
      "   truncexpon        -- Truncated Exponential\n",
      "   truncnorm         -- Truncated Normal\n",
      "   tukeylambda       -- Tukey-Lambda\n",
      "   uniform           -- Uniform\n",
      "   vonmises          -- Von-Mises (Circular)\n",
      "   vonmises_line     -- Von-Mises (Line)\n",
      "   wald              -- Wald\n",
      "   weibull_min       -- Minimum Weibull (see Frechet)\n",
      "   weibull_max       -- Maximum Weibull (see Frechet)\n",
      "   wrapcauchy        -- Wrapped Cauchy\n",
      "\n",
      "Multivariate distributions\n",
      "==========================\n",
      "\n",
      ".. autosummary::\n",
      "   :toctree: generated/\n",
      "\n",
      "   multivariate_normal   -- Multivariate normal distribution\n",
      "   matrix_normal         -- Matrix normal distribution\n",
      "   dirichlet             -- Dirichlet\n",
      "   wishart               -- Wishart\n",
      "   invwishart            -- Inverse Wishart\n",
      "   multinomial           -- Multinomial distribution\n",
      "   special_ortho_group   -- SO(N) group\n",
      "   ortho_group           -- O(N) group\n",
      "   random_correlation    -- random correlation matrices\n",
      "\n",
      "Discrete distributions\n",
      "======================\n",
      "\n",
      ".. autosummary::\n",
      "   :toctree: generated/\n",
      "\n",
      "   bernoulli         -- Bernoulli\n",
      "   binom             -- Binomial\n",
      "   boltzmann         -- Boltzmann (Truncated Discrete Exponential)\n",
      "   dlaplace          -- Discrete Laplacian\n",
      "   geom              -- Geometric\n",
      "   hypergeom         -- Hypergeometric\n",
      "   logser            -- Logarithmic (Log-Series, Series)\n",
      "   nbinom            -- Negative Binomial\n",
      "   planck            -- Planck (Discrete Exponential)\n",
      "   poisson           -- Poisson\n",
      "   randint           -- Discrete Uniform\n",
      "   skellam           -- Skellam\n",
      "   zipf              -- Zipf\n",
      "\n",
      "Statistical functions\n",
      "=====================\n",
      "\n",
      "Several of these functions have a similar version in scipy.stats.mstats\n",
      "which work for masked arrays.\n",
      "\n",
      ".. autosummary::\n",
      "   :toctree: generated/\n",
      "\n",
      "   describe          -- Descriptive statistics\n",
      "   gmean             -- Geometric mean\n",
      "   hmean             -- Harmonic mean\n",
      "   kurtosis          -- Fisher or Pearson kurtosis\n",
      "   kurtosistest      --\n",
      "   mode              -- Modal value\n",
      "   moment            -- Central moment\n",
      "   normaltest        --\n",
      "   skew              -- Skewness\n",
      "   skewtest          --\n",
      "   kstat             --\n",
      "   kstatvar          --\n",
      "   tmean             -- Truncated arithmetic mean\n",
      "   tvar              -- Truncated variance\n",
      "   tmin              --\n",
      "   tmax              --\n",
      "   tstd              --\n",
      "   tsem              --\n",
      "   variation         -- Coefficient of variation\n",
      "   find_repeats\n",
      "   trim_mean\n",
      "\n",
      ".. autosummary::\n",
      "   :toctree: generated/\n",
      "\n",
      "   cumfreq\n",
      "   histogram2\n",
      "   histogram\n",
      "   itemfreq\n",
      "   percentileofscore\n",
      "   scoreatpercentile\n",
      "   relfreq\n",
      "\n",
      ".. autosummary::\n",
      "   :toctree: generated/\n",
      "\n",
      "   binned_statistic     -- Compute a binned statistic for a set of data.\n",
      "   binned_statistic_2d  -- Compute a 2-D binned statistic for a set of data.\n",
      "   binned_statistic_dd  -- Compute a d-D binned statistic for a set of data.\n",
      "\n",
      ".. autosummary::\n",
      "   :toctree: generated/\n",
      "\n",
      "   obrientransform\n",
      "   signaltonoise\n",
      "   bayes_mvs\n",
      "   mvsdist\n",
      "   sem\n",
      "   zmap\n",
      "   zscore\n",
      "   iqr\n",
      "\n",
      ".. autosummary::\n",
      "   :toctree: generated/\n",
      "\n",
      "   sigmaclip\n",
      "   threshold\n",
      "   trimboth\n",
      "   trim1\n",
      "\n",
      ".. autosummary::\n",
      "   :toctree: generated/\n",
      "\n",
      "   f_oneway\n",
      "   pearsonr\n",
      "   spearmanr\n",
      "   pointbiserialr\n",
      "   kendalltau\n",
      "   weightedtau\n",
      "   linregress\n",
      "   theilslopes\n",
      "   f_value\n",
      "\n",
      ".. autosummary::\n",
      "   :toctree: generated/\n",
      "\n",
      "   ttest_1samp\n",
      "   ttest_ind\n",
      "   ttest_ind_from_stats\n",
      "   ttest_rel\n",
      "   kstest\n",
      "   chisquare\n",
      "   power_divergence\n",
      "   ks_2samp\n",
      "   mannwhitneyu\n",
      "   tiecorrect\n",
      "   rankdata\n",
      "   ranksums\n",
      "   wilcoxon\n",
      "   kruskal\n",
      "   friedmanchisquare\n",
      "   combine_pvalues\n",
      "   ss\n",
      "   square_of_sums\n",
      "   jarque_bera\n",
      "\n",
      ".. autosummary::\n",
      "   :toctree: generated/\n",
      "\n",
      "   ansari\n",
      "   bartlett\n",
      "   levene\n",
      "   shapiro\n",
      "   anderson\n",
      "   anderson_ksamp\n",
      "   binom_test\n",
      "   fligner\n",
      "   median_test\n",
      "   mood\n",
      "\n",
      ".. autosummary::\n",
      "   :toctree: generated/\n",
      "\n",
      "   boxcox\n",
      "   boxcox_normmax\n",
      "   boxcox_llf\n",
      "\n",
      "   entropy\n",
      "\n",
      ".. autosummary::\n",
      "   :toctree: generated/\n",
      "\n",
      "   chisqprob\n",
      "   betai\n",
      "\n",
      "Circular statistical functions\n",
      "==============================\n",
      "\n",
      ".. autosummary::\n",
      "   :toctree: generated/\n",
      "\n",
      "   circmean\n",
      "   circvar\n",
      "   circstd\n",
      "\n",
      "Contingency table functions\n",
      "===========================\n",
      "\n",
      ".. autosummary::\n",
      "   :toctree: generated/\n",
      "\n",
      "   chi2_contingency\n",
      "   contingency.expected_freq\n",
      "   contingency.margins\n",
      "   fisher_exact\n",
      "\n",
      "Plot-tests\n",
      "==========\n",
      "\n",
      ".. autosummary::\n",
      "   :toctree: generated/\n",
      "\n",
      "   ppcc_max\n",
      "   ppcc_plot\n",
      "   probplot\n",
      "   boxcox_normplot\n",
      "\n",
      "\n",
      "Masked statistics functions\n",
      "===========================\n",
      "\n",
      ".. toctree::\n",
      "\n",
      "   stats.mstats\n",
      "\n",
      "\n",
      "Univariate and multivariate kernel density estimation (:mod:`scipy.stats.kde`)\n",
      "==============================================================================\n",
      "\n",
      ".. autosummary::\n",
      "   :toctree: generated/\n",
      "\n",
      "   gaussian_kde\n",
      "\n",
      "For many more stat related functions install the software R and the\n",
      "interface package rpy.\n",
      "\n",
      "\n"
     ]
    }
   ],
   "source": [
    "from scipy import stats \n",
    "print(stats.__doc__) "
   ]
  },
  {
   "cell_type": "markdown",
   "metadata": {},
   "source": [
    "###### Create a set of 500 randomly generated numbers called iq_scores (mean = 100, sd = 15)"
   ]
  },
  {
   "cell_type": "code",
   "execution_count": 34,
   "metadata": {},
   "outputs": [
    {
     "name": "stdout",
     "output_type": "stream",
     "text": [
      "[  80.89784133  100.1206866    89.37007793  100.82306785   81.13534118\n",
      "   92.22671032  114.59342804   80.53042375  117.58627239   94.92793337\n",
      "  118.74749251   79.20514267   97.7961216   115.52710228   82.36682776\n",
      "   93.49352054  125.62255369   99.87456954  124.43847487   88.60145227\n",
      "   88.48625889   72.23875071   91.75102738   86.09309033  109.96563037\n",
      "  103.37675113  107.33323876  101.63754801   84.63195186  116.21664902\n",
      "  113.90342761  108.69316062  115.95486326   77.74086363  114.87160822\n",
      "   92.48658444   78.29163765   97.55224715  110.85945826   78.55700158\n",
      "   92.50049996   98.07192344  110.85457748  111.16478945  104.37470842\n",
      "  123.6452967   137.78002656  132.27922617  127.55017593  105.91347555\n",
      "  104.01302688  109.24441421  102.1559196    94.73262869   80.02774537\n",
      "   77.24731985  110.94075868   96.29165561   87.2215546   112.59832158\n",
      "  120.04922603   83.35120478  100.96423265  107.67170642  111.06856271\n",
      "   69.6277748    91.50676577  101.19566432  106.90325421  102.55146943\n",
      "  112.29763631   83.77116388   97.412213     79.83210476   88.65569859\n",
      "   76.7205484    89.88678344  122.52900677  102.96652261  124.9543026\n",
      "   90.44784053  102.39901721  116.28332919  113.53974086  112.38760985\n",
      "   87.37505745  114.66625875   97.84556426   90.4547016   108.18197944\n",
      "   95.88466933  111.98813865   90.93395988   80.4027093   110.26321984\n",
      "  100.10681413   93.65272985   87.89752736   97.6046285   126.96287416\n",
      "   79.28194867   97.59617416  134.82187988   88.1742734    83.70328488\n",
      "  100.87975407  117.86900561  104.30300928   70.48421854  106.32877876\n",
      "  101.59496993   85.54753643  132.52927936   86.15117612   93.22975836\n",
      "  122.17211307   83.04962637  106.01265529   62.81216344  118.53812289\n",
      "   84.7397455    77.24207579  110.27787018   86.53250874  110.10479414\n",
      "  109.03551639  113.82600856   94.58411751  105.73076429  102.08859314\n",
      "  116.44947549   92.67461186  105.12997197  109.05829967  106.79666245\n",
      "   88.04073701   77.03148137   82.86705252  123.83457265  131.46896862\n",
      "  110.60946684  108.06352819   93.48770953   86.3352835   100.72066642\n",
      "  110.58110655   82.9699303   100.32502762   82.73647455  109.88770892\n",
      "  113.41714141   87.03877088  105.99208949  122.09754804   90.79401592\n",
      "   94.6600482   109.41961067  127.43032433  124.14355183  104.81274106\n",
      "  113.70970074  119.88670924   84.18589091  110.27190741  113.84493331\n",
      "  107.98004067   90.54672528   98.08297056   95.18260433  137.22033946\n",
      "   82.86748847   88.94609455  102.30537002   93.07368536   60.9755968\n",
      "  106.1414813    74.07618033   86.23979236   97.0074926   102.45285677\n",
      "   95.45342893  112.95481847  105.39730942   89.83161971  124.36536471\n",
      "  102.88627567   95.7955772    79.64522911  110.76933213  100.28349295\n",
      "  106.60716958   95.14600238  100.50729229   94.65801623   84.52265823\n",
      "   72.88454326   99.74770166  110.47056925  125.13038983   75.94901496\n",
      "   97.68094806   93.23522654  109.00786343   90.50856551  103.13364292\n",
      "   96.77834716  103.78460102  114.1185015   107.84610141   93.25616849\n",
      "   77.32540351  101.74174105   84.71563903   73.7404017    95.8685194\n",
      "   56.68513803  101.26527413  105.0772387   139.04965272   70.71247111\n",
      "   68.90184798  111.97522409   85.22834075   78.64308778  116.72537963\n",
      "   94.36252858  107.04142938  117.28972548   89.75955867  127.28261957\n",
      "  102.53238466  103.42672674  125.13630104  105.87886121   83.85730563\n",
      "   99.28294722   97.72408733  135.74511768   92.49164638   65.16280041\n",
      "  107.02022542  109.06900709   95.60859102  120.18558797   81.22319528\n",
      "  107.29971097  108.258944    100.00423274  106.99123747  118.60456676\n",
      "   89.37306591  119.87123558  113.9566202    91.22678355  120.64430879\n",
      "   83.97129874   98.09157153  104.55651644  113.37770564   98.65336883\n",
      "  123.44417808  119.83281192   96.18338993  117.90668652  109.78910143\n",
      "   97.20370688   97.76591791  120.1555272    99.40387782   78.18827055\n",
      "   90.72694073   93.34139617  105.47153889  148.27401698   93.21544795\n",
      "   93.05259397  107.0226707   115.090924     91.9219336    91.39414228\n",
      "  126.36704081   99.41233181  112.38650005   86.8191564   120.91298042\n",
      "   88.38854158  110.31032963   97.78143612   92.70427231   95.37770289\n",
      "   94.53751158  125.39762188  109.77753642   92.13407581   90.33944425\n",
      "  108.91342027  104.98832592  117.80106975   98.14846548  110.13249266\n",
      "  105.71821345   89.78404044   96.84576143   72.75277181  103.28558044\n",
      "   88.4145839   136.80630538   87.02173334   88.4524486   117.7836089\n",
      "   98.62813572   98.89242082  100.83762155  104.3346732   109.9568645\n",
      "  100.69983752   87.68343491   98.6164686   102.42544398  109.50946461\n",
      "   99.85908754  106.72445446   89.37880354   80.33489396  127.46826658\n",
      "   80.85653567   82.53886016  102.64921095  100.63354388  140.88904344\n",
      "  101.34623619  108.67427962   90.05240552  100.3542049    68.99446571\n",
      "   93.34497831  111.18096964   87.59589023  103.99036063  104.30533423\n",
      "   95.50183527  101.56186562   92.3463845   111.08767626   94.52201906\n",
      "  129.82942601  112.31829554  105.18413124   74.56523873  106.53509469\n",
      "  140.07104866   98.15930716  104.24257477   75.05219196   99.62332682\n",
      "   98.75977926  109.14530321   60.56282403  117.31899384  114.11053722\n",
      "  107.59550929  105.92522304   90.48328603  131.0076289    92.18768121\n",
      "  102.41508706   96.44071313   91.08566129   97.3131645   101.88588815\n",
      "   92.29490684  122.84714693  103.1371502    79.79605189  104.34673678\n",
      "   95.2783675   103.8967021    82.42930583   82.02236665  107.51681058\n",
      "  105.31911053  114.40445003   96.02507689   93.46364754  104.33416189\n",
      "   82.69617609  103.89456203  102.91003597   77.66381357  116.15219359\n",
      "   70.33765068   89.56753316  122.04192876  101.53315188   82.77329397\n",
      "   78.49756854  102.53297447  102.39689047   92.75555398  109.90868872\n",
      "  113.60705912  109.61020044   91.48203222   86.05765157   96.64835221\n",
      "  109.74508757  119.79650872   65.45236672   85.27293453  116.13229104\n",
      "  120.21659759  103.07641792  123.45641335   96.04319963   96.20781595\n",
      "   98.73131856  101.13088962   89.9968921   118.52650978   66.42603172\n",
      "  103.26472298  104.23377222  118.46483454   84.07071782   81.67209302\n",
      "   97.80566731  108.25320953  118.52427309  103.34322748   83.52093391\n",
      "   90.2282894   102.53810107   90.74584081   89.77028668  108.16465628\n",
      "   88.7241948   130.7396972   120.24388242   87.27080247  105.2877996\n",
      "  100.60572398   60.11737066   99.00668795  110.89759835  102.88023149\n",
      "   99.7285184    96.7471289    83.34788831  108.49421394   88.66738953\n",
      "  111.67083547   74.27365214  112.6895606    87.67941229  126.49743692\n",
      "  109.65913472  100.20195671  106.98146373   87.31167059  114.97329661\n",
      "  103.60535761  120.40261875  132.7143327   112.4147254    95.45375593\n",
      "  127.41886117   87.68688599  119.94362011   76.68734448   83.13766522\n",
      "   98.75072873   87.54091944  111.72106004   91.48788046   98.92237992\n",
      "   94.07051014   91.02462806  105.38779833  109.63038584  108.21768472\n",
      "  119.18460643  102.2331351    87.11339643  119.95049198  109.02117862\n",
      "   83.51898065  110.45960736  105.43162961   91.49437638   77.32579541\n",
      "  103.50321259   89.4984036    98.98891872   98.77247046  105.74903844\n",
      "   94.9723773   107.75784462   81.79118036  103.90839734  106.31557172]\n"
     ]
    }
   ],
   "source": [
    "sigma = 15\n",
    "mu = 100\n",
    "iq_scores = np.random.normal(mu, sigma, 500)\n",
    "print(iq_scores)"
   ]
  },
  {
   "cell_type": "markdown",
   "metadata": {},
   "source": [
    "###### plot the distribution of your iq_scores.  Does it look normally distributed?"
   ]
  },
  {
   "cell_type": "code",
   "execution_count": 36,
   "metadata": {},
   "outputs": [
    {
     "data": {
      "text/plain": [
       "[<matplotlib.lines.Line2D at 0x1a1d803438>]"
      ]
     },
     "execution_count": 36,
     "metadata": {},
     "output_type": "execute_result"
    },
    {
     "data": {
      "image/png": "[encoded data removed]",
      "text/plain": [
       "<matplotlib.figure.Figure at 0x1a1d803f98>"
      ]
     },
     "metadata": {},
     "output_type": "display_data"
    }
   ],
   "source": [
    "count, bins, ignored = plt.hist(iq_scores, bins=30, color= 'green', normed=True)\n",
    "plt.plot(bins, 1/(sigma * np.sqrt(2 * np.pi)) * np.exp( - (bins - mu)**2 / (2 * sigma**2) ),linewidth=2, color='r')"
   ]
  },
  {
   "cell_type": "code",
   "execution_count": null,
   "metadata": {
    "collapsed": true
   },
   "outputs": [],
   "source": []
  }
 ],
 "metadata": {
  "kernelspec": {
   "display_name": "Python 3",
   "language": "python",
   "name": "python3"
  },
  "language_info": {
   "codemirror_mode": {
    "name": "ipython",
    "version": 3
   },
   "file_extension": ".py",
   "mimetype": "text/x-python",
   "name": "python",
   "nbconvert_exporter": "python",
   "pygments_lexer": "ipython3",
   "version": "3.6.3"
  }
 },
 "nbformat": 4,
 "nbformat_minor": 2
}
